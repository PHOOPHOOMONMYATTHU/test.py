{
  "cells": [
    {
      "cell_type": "markdown",
      "metadata": {},
      "source": [
        "<h1>Data Science Tools and Ecosystem</h1>"
      ]
    },
    {
      "cell_type": "markdown",
      "metadata": {},
      "source": [
        "<p style=\"color:red;\">In this notebook, Data Science Tools and Ecosystem are summarized.</p>"
      ]
    },
    {
      "cell_type": "markdown",
      "metadata": {},
      "source": [
        "Some of the popular languages that Data Scientists use are:\n",
        "<p>1.R</p>\n",
        "<p>2.Python</p>\n",
        "<p>3.Java</p>\n",
        "<p>4.Matlab</p>"
      ]
    },
    {
      "cell_type": "markdown",
      "metadata": {},
      "source": [
        "<b>Objectives:</b>\n",
        "<p>*Python</p>\n",
        "<p>*SQL</p>\n",
        "<p>*R</p>\n",
        "<p>*Java</p>\n",
        "<p>*C++</p>"
      ]
    },
    {
      "cell_type": "markdown",
      "metadata": {},
      "source": [
        "Some of the commonly used libraries used by Data Scientists include:\n",
        "<p>1.NumPy</p>\n",
        "<p>2.Pandas</p>\n",
        "<p>3.ScarPy</p>\n",
        "<p>4.Scipy</p>"
      ]
    },
    {
      "cell_type": "markdown",
      "metadata": {},
      "source": [
        "Data Science Tools | \n",
        "------------\n",
        "RStudio| \n",
        "Apache Spark| \n",
        "TensorFlow| "
      ]
    },
    {
      "cell_type": "markdown",
      "metadata": {},
      "source": [
        "<H3>Below are a few examples of evaluating arithmetic expressions in Python</H3>"
      ]
    },
    {
      "cell_type": "code",
      "execution_count": 13,
      "metadata": {
        "trusted": true
      },
      "outputs": [
        {
          "data": {
            "text/plain": [
              "17"
            ]
          },
          "execution_count": 13,
          "metadata": {},
          "output_type": "execute_result"
        }
      ],
      "source": [
        "(3*4)+5\n",
        "#This a simple arithmetic expression to mutiply then add integers"
      ]
    },
    {
      "cell_type": "code",
      "execution_count": 14,
      "metadata": {
        "trusted": true
      },
      "outputs": [
        {
          "name": "stdout",
          "output_type": "stream",
          "text": [
            "3.3333333333333335\n"
          ]
        }
      ],
      "source": [
        "hours = 200/60\n",
        "print(hours)\n",
        "#his will convert 200 minutes to hours by diving by 60"
      ]
    },
    {
      "cell_type": "markdown",
      "metadata": {},
      "source": [
        "<h2>Author</h2>\n",
        "PHOO PHOO MON MYAT THU"
      ]
    }
  ],
  "metadata": {
    "kernelspec": {
      "display_name": "Python 3",
      "language": "python",
      "name": "python3"
    },
    "language_info": {
      "codemirror_mode": {
        "name": "ipython",
        "version": 3
      },
      "file_extension": ".py",
      "mimetype": "text/x-python",
      "name": "python",
      "nbconvert_exporter": "python",
      "pygments_lexer": "ipython3",
      "version": "3.11.5"
    }
  },
  "nbformat": 4,
  "nbformat_minor": 4
}
